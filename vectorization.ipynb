{
 "cells": [
  {
   "cell_type": "code",
   "execution_count": 1,
   "metadata": {},
   "outputs": [],
   "source": [
    "import numpy as np"
   ]
  },
  {
   "cell_type": "code",
   "execution_count": 2,
   "metadata": {},
   "outputs": [
    {
     "name": "stdout",
     "output_type": "stream",
     "text": [
      "[1 2 3 4]\n"
     ]
    }
   ],
   "source": [
    "a = np.array([1,2,3,4])\n",
    "print(a)"
   ]
  },
  {
   "cell_type": "code",
   "execution_count": 6,
   "metadata": {},
   "outputs": [
    {
     "name": "stdout",
     "output_type": "stream",
     "text": [
      "249798.51802383867\n",
      "vectorized version : 1.497030258178711ms\n",
      "249798.5180238368\n",
      "non- vectorized version : 1003.4375190734863ms\n"
     ]
    }
   ],
   "source": [
    "import time\n",
    "\n",
    "a = np.random.rand(1000000)\n",
    "b = np.random.rand(1000000)\n",
    "\n",
    "tic = time.time()\n",
    "\n",
    "c = np.dot(a,b)  # returns dot product of arrays\n",
    "\n",
    "toc = time.time()\n",
    "\n",
    "print(c)\n",
    "print(\"vectorized version : \"+str(1000*(toc-tic))+\"ms\")\n",
    "\n",
    "c=0\n",
    "tic=time.time()\n",
    "for i in range(1000000):\n",
    "    c+=a[i]*b[i]\n",
    "toc=time.time()\n",
    "\n",
    "print(c)\n",
    "print(\"non- vectorized version : \"+str(1000*(toc-tic))+\"ms\")"
   ]
  },
  {
   "cell_type": "code",
   "execution_count": 7,
   "metadata": {},
   "outputs": [],
   "source": [
    "# applying exponential operation on every element of a vector"
   ]
  },
  {
   "cell_type": "code",
   "execution_count": 8,
   "metadata": {},
   "outputs": [],
   "source": [
    "v = np.random.rand(10)\n",
    "u = np.exp(v)"
   ]
  },
  {
   "cell_type": "code",
   "execution_count": 9,
   "metadata": {},
   "outputs": [],
   "source": [
    "# logistic regression "
   ]
  },
  {
   "cell_type": "code",
   "execution_count": 12,
   "metadata": {},
   "outputs": [
    {
     "data": {
      "text/plain": [
       "'j = 0\\ndw = np.zeroes((nx,1))\\ndb = 0\\n\\nfor i=1 to m:\\n    z(i) = w(t)x(i) + b\\n    a(i) = sigma(z(i))\\n    j+= -[y(i)log(a(i))+(1-y(i))(log(1-a(i))]\\n    dz(i) = a(i)-y(i)\\n    dw += x(i)dz(i)\\n    db += dz(i)\\n\\nj =j/m\\ndw/=m\\ndb/=m\\n'"
      ]
     },
     "execution_count": 12,
     "metadata": {},
     "output_type": "execute_result"
    }
   ],
   "source": [
    "\"\"\"j = 0\n",
    "dw = np.zeroes((nx,1))\n",
    "db = 0\n",
    "\n",
    "for i=1 to m:\n",
    "    z(i) = w(t)x(i) + b\n",
    "    a(i) = sigma(z(i))\n",
    "    j+= -[y(i)log(a(i))+(1-y(i))(log(1-a(i))]\n",
    "    dz(i) = a(i)-y(i)\n",
    "    dw += x(i)dz(i)\n",
    "    db += dz(i)\n",
    "\n",
    "j =j/m\n",
    "dw/=m\n",
    "db/=m\n",
    "\"\"\""
   ]
  },
  {
   "cell_type": "code",
   "execution_count": null,
   "metadata": {},
   "outputs": [],
   "source": []
  }
 ],
 "metadata": {
  "kernelspec": {
   "display_name": "Python 3",
   "language": "python",
   "name": "python3"
  },
  "language_info": {
   "codemirror_mode": {
    "name": "ipython",
    "version": 3
   },
   "file_extension": ".py",
   "mimetype": "text/x-python",
   "name": "python",
   "nbconvert_exporter": "python",
   "pygments_lexer": "ipython3",
   "version": "3.9.1"
  }
 },
 "nbformat": 4,
 "nbformat_minor": 4
}
